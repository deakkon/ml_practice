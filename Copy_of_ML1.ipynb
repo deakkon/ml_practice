{
  "nbformat": 4,
  "nbformat_minor": 0,
  "metadata": {
    "colab": {
      "name": "Copy of ML1.ipynb",
      "provenance": [],
      "collapsed_sections": [],
      "include_colab_link": true
    },
    "kernelspec": {
      "name": "python3",
      "display_name": "Python 3"
    }
  },
  "cells": [
    {
      "cell_type": "markdown",
      "metadata": {
        "id": "view-in-github",
        "colab_type": "text"
      },
      "source": [
        "<a href=\"https://colab.research.google.com/github/deakkon/ml_practice/blob/master/Copy_of_ML1.ipynb\" target=\"_parent\"><img src=\"https://colab.research.google.com/assets/colab-badge.svg\" alt=\"Open In Colab\"/></a>"
      ]
    },
    {
      "cell_type": "code",
      "metadata": {
        "id": "uPEMIskjZwmM",
        "colab_type": "code",
        "colab": {}
      },
      "source": [
        "# bok bok\n",
        "# idem tu korak po kora\n",
        "# i dalje se igramo z podacima za vreme?\n",
        "# ako je, kaj ocemo nafciti modela da dela? kaj predvidjamo?  "
      ],
      "execution_count": 0,
      "outputs": []
    },
    {
      "cell_type": "code",
      "metadata": {
        "id": "c0SMGOstaCed",
        "colab_type": "code",
        "colab": {}
      },
      "source": [
        "from datetime import datetime, timedelta\n",
        "import time\n",
        "from collections import namedtuple\n",
        "import pandas as pd\n",
        "import requests\n",
        "import matplotlib.pyplot as plt\n",
        "\n",
        "API_KEY = '447675cf5d624c9fb675cf5d62cc9f55'\n",
        "BASE_URL = \"http://api.wunderground.com/api/{}/history_{}/q/NE/Lincoln.json\""
      ],
      "execution_count": 0,
      "outputs": []
    },
    {
      "cell_type": "code",
      "metadata": {
        "id": "dFKLmv-455gj",
        "colab_type": "code",
        "outputId": "22f4d86f-6f0d-462b-98c5-e791aa8e0ec5",
        "colab": {
          "base_uri": "https://localhost:8080/",
          "height": 34
        }
      },
      "source": [
        "target_date = datetime(2016, 5, 16)\n",
        "features = [\"date\", \"meantempm\", \"meandewptm\", \"meanpressurem\", \"maxhumidity\", \"minhumidity\", \"maxtempm\", \"mintempm\", \"maxdewptm\", \"mindewptm\", \"maxpressurem\", \"minpressurem\", \"precipm\"]\n",
        "DailySummary = namedtuple(\"DailySummary\", features)\n",
        "\n",
        "def extract_weather_data(url, api_key, target_date, days):\n",
        "    records = []\n",
        "    for _ in range(days):\n",
        "        request = BASE_URL.format(API_KEY, target_date.strftime('%Y%m%d'))\n",
        "        response = requests.get(request)\n",
        "        if response.status_code == 200:\n",
        "            data = response.json()['history']['dailysummary'][0]\n",
        "            records.append(DailySummary(\n",
        "                date=target_date,\n",
        "                meantempm=data['meantempm'],\n",
        "                meandewptm=data['meandewptm'],\n",
        "                meanpressurem=data['meanpressurem'],\n",
        "                maxhumidity=data['maxhumidity'],\n",
        "                minhumidity=data['minhumidity'],\n",
        "                maxtempm=data['maxtempm'],\n",
        "                mintempm=data['mintempm'],\n",
        "                maxdewptm=data['maxdewptm'],\n",
        "                mindewptm=data['mindewptm'],\n",
        "                maxpressurem=data['maxpressurem'],\n",
        "                minpressurem=data['minpressurem'],\n",
        "                precipm=data['precipm']))\n",
        "        time.sleep(6)\n",
        "        target_date += timedelta(days=1)\n",
        "    return records\n",
        "\n",
        "#===========\n",
        "print('LETS FETCH DATA')\n",
        "records = extract_weather_data(BASE_URL, API_KEY, target_date, 5)\n",
        "df = pd.DataFrame(records, columns=features).set_index('date')\n",
        "print(df)"
      ],
      "execution_count": 0,
      "outputs": [
        {
          "output_type": "stream",
          "text": [
            "LETS FETCH DATA\n"
          ],
          "name": "stdout"
        }
      ]
    }
  ]
}