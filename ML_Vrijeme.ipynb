{
  "nbformat": 4,
  "nbformat_minor": 0,
  "metadata": {
    "colab": {
      "name": "ML1.ipynb",
      "provenance": [],
      "collapsed_sections": [],
      "include_colab_link": true
    },
    "kernelspec": {
      "name": "python3",
      "display_name": "Python 3"
    }
  },
  "cells": [
    {
      "cell_type": "markdown",
      "metadata": {
        "id": "view-in-github",
        "colab_type": "text"
      },
      "source": [
        "<a href=\"https://colab.research.google.com/github/deakkon/ml_practice/blob/master/ML_Vrijeme.ipynb\" target=\"_parent\"><img src=\"https://colab.research.google.com/assets/colab-badge.svg\" alt=\"Open In Colab\"/></a>"
      ]
    },
    {
      "cell_type": "markdown",
      "metadata": {
        "id": "0hDkRl9J2wGk",
        "colab_type": "text"
      },
      "source": [
        "Igramo se s podacima za vrijeme; podaci su v data folderu\n",
        "Ocemo predvijdeti dal bode suncano, oblacno ili kaj vec zutra na temelju onoga kaj je denes (nebodemo modelirali dalju proslost od toga za sad)"
      ]
    },
    {
      "cell_type": "code",
      "metadata": {
        "id": "uAxdhWv727SH",
        "colab_type": "code",
        "colab": {}
      },
      "source": [
        "#TU IMPORTIRAMO PAKETE KOJI NAM TREBAJU\n",
        "import pandas as pd"
      ],
      "execution_count": 0,
      "outputs": []
    },
    {
      "cell_type": "code",
      "metadata": {
        "id": "K1gzE94t3BOD",
        "colab_type": "code",
        "colab": {}
      },
      "source": [
        "#TU DEFINIRAMO PUTANJE DO PODACI\n",
        "data_dir = 'data/austin_weather.csv'"
      ],
      "execution_count": 0,
      "outputs": []
    },
    {
      "cell_type": "code",
      "metadata": {
        "id": "eZDqDUto3M29",
        "colab_type": "code",
        "colab": {}
      },
      "source": [
        "#TU UCITAMO PODATKE V PADANS DATA FRAME\n",
        "# podaci_df = pd.re"
      ],
      "execution_count": 0,
      "outputs": []
    }
  ]
}